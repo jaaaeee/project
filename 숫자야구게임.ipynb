{
 "cells": [
  {
   "cell_type": "code",
   "execution_count": null,
   "id": "d4388cbd",
   "metadata": {},
   "outputs": [],
   "source": [
    "from random import randint\n",
    "\n",
    "def randNum():    #랜덤숫자 출력\n",
    "    Numbers = []\n",
    "    \n",
    "    while len(Numbers)<3:\n",
    "        ran_Num = randint(0, 9)\n",
    "        if ran_Num not in Numbers:\n",
    "            Numbers.append(ran_Num)\n",
    "\n",
    "    return Numbers\n",
    "\n",
    "def guessNum():      #숫자예측\n",
    "    playerNum = []\n",
    "    \n",
    "    while len(playerNum)<3:\n",
    "        plnum = int(input(\"{}번째 수를 입력하세요: \".format(len(playerNum) + 1)))\n",
    "\n",
    "        if plnum < 0 or plnum > 9:\n",
    "            print(\"0에서 9까지의 수를 입력해 주세요!\")\n",
    "        elif plnum in playerNum:\n",
    "            print(\"중복되는 숫자입니다. 다시 입력하세요.\")\n",
    "        else:\n",
    "            playerNum.append(plnum)\n",
    "\n",
    "    return playerNum\n",
    "\n",
    "def judgment_bs(guess, answer_list):\n",
    "    strike = 0\n",
    "    ball = 0\n",
    "\n",
    "    for i in range(3):\n",
    "        if guess[i] == answer_list[i]:\n",
    "            strike += 1\n",
    "        elif guess[i] in answer_list:\n",
    "            ball += 1\n",
    "\n",
    "    return strike, ball\n",
    "\n",
    "\n",
    "ANSWER = randNum()\n",
    "tries = 0\n",
    "\n",
    "while True:\n",
    "    user_guess = guessNum()\n",
    "    s, b = judgment_bs(user_guess, ANSWER)\n",
    "\n",
    "    print(f\"{s}S {b}B\")\n",
    "    tries += 1\n",
    "\n",
    "    if s == 3:\n",
    "        break\n",
    "\n",
    "print(f\"{tries}번만에 정답!\")"
   ]
  }
 ],
 "metadata": {
  "kernelspec": {
   "display_name": "Python 3 (ipykernel)",
   "language": "python",
   "name": "python3"
  },
  "language_info": {
   "codemirror_mode": {
    "name": "ipython",
    "version": 3
   },
   "file_extension": ".py",
   "mimetype": "text/x-python",
   "name": "python",
   "nbconvert_exporter": "python",
   "pygments_lexer": "ipython3",
   "version": "3.9.7"
  }
 },
 "nbformat": 4,
 "nbformat_minor": 5
}
